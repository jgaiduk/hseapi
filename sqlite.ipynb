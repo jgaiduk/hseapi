{
 "cells": [
  {
   "cell_type": "code",
   "execution_count": 27,
   "metadata": {},
   "outputs": [],
   "source": [
    "import sqlite3\n",
    "import json"
   ]
  },
  {
   "cell_type": "code",
   "execution_count": 35,
   "metadata": {},
   "outputs": [],
   "source": [
    "def dict_factory(cursor, row):\n",
    "    d = {}\n",
    "    for idx, col in enumerate(cursor.description):\n",
    "        d[col[0]] = row[idx]\n",
    "    return d\n",
    "\n",
    "conn = sqlite3.connect('programs.db', isolation_level=None)\n",
    "conn.row_factory = dict_factory\n",
    "cursor = conn.cursor()"
   ]
  },
  {
   "cell_type": "code",
   "execution_count": 10,
   "metadata": {},
   "outputs": [],
   "source": [
    "def get_bachelors_programs_json(): \n",
    "    \"\"\"\n",
    "    Выдает словарь, где ключами являются названия образовательных программ, \n",
    "    а значениями — словари с признаками для каждой программы.\n",
    "    \"\"\"\n",
    "    import re\n",
    "    import requests\n",
    "    from bs4 import BeautifulSoup\n",
    "    import json\n",
    "    link = \"https://www.hse.ru/education/programs\"\n",
    "    r = requests.get(link)\n",
    "    page = BeautifulSoup(r.text, 'html.parser')\n",
    "    data_programs_bac_json = {}\n",
    "    \n",
    "    for program__title in page.body.find_all(\"div\", re.compile(\"education_bachelor\")):\n",
    "        field = program__title.h3.text #направление подготовки 07.00.00 Архитектура\n",
    "\n",
    "        for item in program__title.find_all(\"div\", class_=\"edu-programm__item small\"):\n",
    "            program = str(item.a.text) # название образовательной программы\n",
    "            campus = item.find(\"div\", class_=\"edu-programm__campus\").text\n",
    "            faculty = item.find(\"div\", class_=\"edu-programm__unit\").text #факультет\n",
    "            duration = item.find(\"div\", class_=\"edu-programm__edu\").text.split()[0] #продолжительность обучения\n",
    "            form = item.find(\"span\", class_=\"edu-programm__edu_offline\").text #форма обучения - Очная\\Заочная\n",
    "            link = item.find(\"a\").get(\"href\") \n",
    "\n",
    "            data_programs_bac_json[program] = {\n",
    "                \"campus\": campus,\n",
    "                \"faculty\": faculty,\n",
    "                \"duration\": duration,\n",
    "                \"form\": form,\n",
    "                \"link\": link,\n",
    "                \"field\": field\n",
    "            }\n",
    "\n",
    "            # Этот блок обрабатывает количество мест.\n",
    "\n",
    "            openings_free_list = item.find_all(\"div\", \"edu-programm__place_free\") \n",
    "            openings_free_list = [n.text.strip().replace(\"\\xa0\", \" \") for n in openings_free_list]\n",
    "            if len(openings_free_list) > 1:\n",
    "                openings_free_sum = int(openings_free_list[0].split()[0])+int(openings_free_list[-1].split()[0])\n",
    "            else:\n",
    "                try:\n",
    "                    openings_free_sum = int(openings_free_list[0].split()[0])\n",
    "                except IndexError: \n",
    "                    openings_free_sum = 0\n",
    "\n",
    "            openings_paid = item.find_all(\"div\", class_=\"edu-programm__place_paid\")\n",
    "            openings_paid = [n.text.strip().replace(\"\\xa0\", \" \") for n in openings_paid]\n",
    "            if len(openings_paid) > 1:\n",
    "                openings_paid_rus = int(openings_paid[0].split()[0])\n",
    "                openings_paid_foreign = int(openings_paid[-1].split()[0])\n",
    "                data_programs_bac_json[program][\"openings\"] = {\n",
    "                    \"free\": openings_free_sum,\n",
    "                    \"paid_rus\": openings_paid_rus,\n",
    "                    \"paid_foreign\": openings_paid_foreign}\n",
    "            else:\n",
    "                openings_paid_rus = int(openings_paid[0].split()[0])\n",
    "                data_programs_bac_json[program][\"openings\"] = {\n",
    "                    \"free\": openings_free_sum,\n",
    "                    \"paid_rus\": openings_paid_rus}\n",
    "\n",
    "    return data_programs_bac_json"
   ]
  },
  {
   "cell_type": "code",
   "execution_count": 11,
   "metadata": {},
   "outputs": [
    {
     "data": {
      "text/plain": [
       "[('Библеистика и история древнего Израиля',\n",
       "  {'campus': 'Москва',\n",
       "   'duration': '5',\n",
       "   'faculty': 'Институт классического Востока и античности',\n",
       "   'field': '58.00.00 Востоковедение и африканистика',\n",
       "   'form': 'Очная',\n",
       "   'link': 'https://www.hse.ru/ba/israel/',\n",
       "   'openings': {'free': 12, 'paid_foreign': 5, 'paid_rus': 10}}),\n",
       " ('Востоковедение',\n",
       "  {'campus': 'Санкт-Петербург',\n",
       "   'duration': '5',\n",
       "   'faculty': 'Санкт-Петербургская школа социальных и гуманитарных наук',\n",
       "   'field': '41.00.00 Политические науки и регионоведение',\n",
       "   'form': 'Очная',\n",
       "   'link': 'https://spb.hse.ru/ba/oriental/',\n",
       "   'openings': {'free': 25, 'paid_foreign': 4, 'paid_rus': 70}}),\n",
       " ('Языки и литература Индии',\n",
       "  {'campus': 'Москва',\n",
       "   'duration': '5',\n",
       "   'faculty': 'Институт классического Востока и античности',\n",
       "   'field': '58.00.00 Востоковедение и африканистика',\n",
       "   'form': 'Очная',\n",
       "   'link': 'https://www.hse.ru/ba/india/',\n",
       "   'openings': {'free': 12, 'paid_foreign': 5, 'paid_rus': 10}})]"
      ]
     },
     "execution_count": 11,
     "metadata": {},
     "output_type": "execute_result"
    }
   ],
   "source": [
    "programs = get_bachelors_programs_json()\n",
    "list(programs.items())[:3]"
   ]
  },
  {
   "cell_type": "code",
   "execution_count": 12,
   "metadata": {},
   "outputs": [
    {
     "data": {
      "text/plain": [
       "[{'campus': 'Москва',\n",
       "  'duration': '5',\n",
       "  'faculty': 'Институт классического Востока и античности',\n",
       "  'field': ['58.00.00', 'Востоковедение и африканистика'],\n",
       "  'form': 'Очная',\n",
       "  'link': 'https://www.hse.ru/ba/israel/',\n",
       "  'name': 'Библеистика и история древнего Израиля',\n",
       "  'openings': {'free': 12, 'paid_foreign': 5, 'paid_rus': 10}},\n",
       " {'campus': 'Санкт-Петербург',\n",
       "  'duration': '5',\n",
       "  'faculty': 'Санкт-Петербургская школа социальных и гуманитарных наук',\n",
       "  'field': ['41.00.00', 'Политические науки и регионоведение'],\n",
       "  'form': 'Очная',\n",
       "  'link': 'https://spb.hse.ru/ba/oriental/',\n",
       "  'name': 'Востоковедение',\n",
       "  'openings': {'free': 25, 'paid_foreign': 4, 'paid_rus': 70}},\n",
       " {'campus': 'Москва',\n",
       "  'duration': '5',\n",
       "  'faculty': 'Институт классического Востока и античности',\n",
       "  'field': ['58.00.00', 'Востоковедение и африканистика'],\n",
       "  'form': 'Очная',\n",
       "  'link': 'https://www.hse.ru/ba/india/',\n",
       "  'name': 'Языки и литература Индии',\n",
       "  'openings': {'free': 12, 'paid_foreign': 5, 'paid_rus': 10}}]"
      ]
     },
     "execution_count": 12,
     "metadata": {},
     "output_type": "execute_result"
    }
   ],
   "source": [
    "new_programs = []\n",
    "for k, v in programs.items():\n",
    "    v['field'] = v['field'].split(maxsplit=1)\n",
    "    v['name'] = k\n",
    "    new_programs.append(v)\n",
    "programs = new_programs\n",
    "del new_programs\n",
    "programs[:3]"
   ]
  },
  {
   "cell_type": "code",
   "execution_count": 14,
   "metadata": {},
   "outputs": [],
   "source": [
    "fields = list({tuple(program['field']) for program in programs})\n",
    "forms = list({program['form'] for program in programs})\n",
    "faculties = list({program['faculty'] for program in programs})\n",
    "campuses = list({program['campus'] for program in programs})"
   ]
  },
  {
   "cell_type": "code",
   "execution_count": 15,
   "metadata": {},
   "outputs": [],
   "source": [
    "cursor.execute('DROP TABLE IF EXISTS fields')\n",
    "sql = '''CREATE TABLE fields (\n",
    "    code text PRIMARY KEY,\n",
    "    name text\n",
    ")'''\n",
    "cursor.execute(sql)\n",
    "\n",
    "sql = \"\"\"INSERT INTO fields (code, name) VALUES (?, ?)\"\"\"\n",
    "for code, name in fields:\n",
    "    cursor.execute(sql, [code, name])"
   ]
  },
  {
   "cell_type": "code",
   "execution_count": 17,
   "metadata": {},
   "outputs": [
    {
     "name": "stdout",
     "output_type": "stream",
     "text": [
      "('41.00.00', 'Политические науки и регионоведение')\n",
      "('58.00.00', 'Востоковедение и африканистика')\n"
     ]
    }
   ],
   "source": [
    "sql = \"\"\"SELECT * FROM fields WHERE code in ('41.00.00', '58.00.00')\"\"\"\n",
    "for row in conn.execute(sql):\n",
    "    print(row)"
   ]
  },
  {
   "cell_type": "code",
   "execution_count": 18,
   "metadata": {},
   "outputs": [],
   "source": [
    "cursor.execute('DROP TABLE IF EXISTS faculties')\n",
    "sql = '''CREATE TABLE faculties (\n",
    "    id INTEGER PRIMARY KEY AUTOINCREMENT,\n",
    "    name text\n",
    ")'''\n",
    "cursor.execute(sql)\n",
    "\n",
    "sql = \"\"\"INSERT INTO faculties (name) VALUES (?)\"\"\"\n",
    "for name in faculties:\n",
    "    cursor.execute(sql, [name])"
   ]
  },
  {
   "cell_type": "code",
   "execution_count": 19,
   "metadata": {},
   "outputs": [],
   "source": [
    "cursor.execute('DROP TABLE IF EXISTS forms')\n",
    "sql = '''CREATE TABLE forms (\n",
    "    id INTEGER PRIMARY KEY AUTOINCREMENT,\n",
    "    name text\n",
    ")'''\n",
    "cursor.execute(sql)\n",
    "\n",
    "sql = \"\"\"INSERT INTO forms (name) VALUES (?)\"\"\"\n",
    "for name in forms:\n",
    "    cursor.execute(sql, [name])"
   ]
  },
  {
   "cell_type": "code",
   "execution_count": 20,
   "metadata": {},
   "outputs": [],
   "source": [
    "sql = '''CREATE TABLE campuses (\n",
    "    id INTEGER PRIMARY KEY AUTOINCREMENT,\n",
    "    name text\n",
    ")'''\n",
    "cursor.execute(sql)\n",
    "\n",
    "sql = \"\"\"INSERT INTO campuses (name) VALUES (?)\"\"\"\n",
    "for name in campuses:\n",
    "    cursor.execute(sql, [name])"
   ]
  },
  {
   "cell_type": "code",
   "execution_count": 21,
   "metadata": {},
   "outputs": [
    {
     "data": {
      "text/plain": [
       "dict_keys(['campus', 'faculty', 'duration', 'form', 'link', 'field', 'openings', 'name'])"
      ]
     },
     "execution_count": 21,
     "metadata": {},
     "output_type": "execute_result"
    }
   ],
   "source": [
    "programs[0].keys()"
   ]
  },
  {
   "cell_type": "code",
   "execution_count": 22,
   "metadata": {},
   "outputs": [
    {
     "data": {
      "text/plain": [
       "{'4', '5', '5,5'}"
      ]
     },
     "execution_count": 22,
     "metadata": {},
     "output_type": "execute_result"
    }
   ],
   "source": [
    "{p['duration'] for p in programs}"
   ]
  },
  {
   "cell_type": "code",
   "execution_count": 25,
   "metadata": {},
   "outputs": [
    {
     "data": {
      "text/plain": [
       "<sqlite3.Cursor at 0x22ec106c500>"
      ]
     },
     "execution_count": 25,
     "metadata": {},
     "output_type": "execute_result"
    }
   ],
   "source": [
    "cursor.execute('DROP TABLE IF EXISTS programs')\n",
    "sql = '''CREATE TABLE programs (\n",
    "    id INTEGER PRIMARY KEY AUTOINCREMENT,\n",
    "    name text,\n",
    "    link text,\n",
    "    duration TEXT,\n",
    "    openings TEXT,\n",
    "    faculty_id INTEGER,\n",
    "    campus_id INTEGER,\n",
    "    form_id INT,\n",
    "    field_code TEXT,\n",
    "    \n",
    "    FOREIGN KEY(faculty_id) REFERENCES faculties(id),\n",
    "    FOREIGN KEY(campus_id) REFERENCES campuses(id),\n",
    "    FOREIGN KEY(form_id) REFERENCES forms(id),\n",
    "    FOREIGN KEY(field_code) REFERENCES fields(code)\n",
    ")'''\n",
    "cursor.execute(sql)"
   ]
  },
  {
   "cell_type": "code",
   "execution_count": 28,
   "metadata": {},
   "outputs": [],
   "source": [
    "sql = \"\"\"\n",
    "INSERT INTO programs (name, link, duration, openings, faculty_id, campus_id, form_id, field_code)\n",
    "SELECT :name, :link, :duration, :openings, f.id, c.id, forms.id, :field\n",
    "FROM faculties f, campuses c, forms\n",
    "WHERE f.name=:faculty AND c.name=:campus AND forms.name=:form\n",
    "\"\"\"\n",
    "for program in programs:\n",
    "    p = dict(program)\n",
    "    p['field'] = p['field'][0]\n",
    "    p['openings'] = json.dumps(p['openings'], ensure_ascii=False)\n",
    "    conn.execute(sql, p)"
   ]
  },
  {
   "cell_type": "code",
   "execution_count": 38,
   "metadata": {},
   "outputs": [
    {
     "data": {
      "text/plain": [
       "[{'campus_id': 2,\n",
       "  'duration': '5',\n",
       "  'faculty': 'Санкт-Петербургская школа социальных и гуманитарных наук',\n",
       "  'faculty_id': 15,\n",
       "  'field_code': '41.00.00',\n",
       "  'field_name': 'Санкт-Петербургская школа социальных и гуманитарных наук',\n",
       "  'form_id': 1,\n",
       "  'id': 2,\n",
       "  'link': 'https://spb.hse.ru/ba/oriental/',\n",
       "  'name': 'Востоковедение',\n",
       "  'openings': '{\"free\": 25, \"paid_rus\": 70, \"paid_foreign\": 4}'},\n",
       " {'campus_id': 2,\n",
       "  'duration': '4',\n",
       "  'faculty': 'Санкт-Петербургская школа социальных и гуманитарных наук',\n",
       "  'faculty_id': 15,\n",
       "  'field_code': '41.00.00',\n",
       "  'field_name': 'Санкт-Петербургская школа социальных и гуманитарных наук',\n",
       "  'form_id': 1,\n",
       "  'id': 21,\n",
       "  'link': 'https://spb.hse.ru/ba/political/',\n",
       "  'name': 'Политология и мировая политика',\n",
       "  'openings': '{\"free\": 40, \"paid_rus\": 50, \"paid_foreign\": 10}'},\n",
       " {'campus_id': 2,\n",
       "  'duration': '4',\n",
       "  'faculty': 'Санкт-Петербургская школа социальных и гуманитарных наук',\n",
       "  'faculty_id': 15,\n",
       "  'field_code': '39.00.00',\n",
       "  'field_name': 'Санкт-Петербургская школа социальных и гуманитарных наук',\n",
       "  'form_id': 1,\n",
       "  'id': 26,\n",
       "  'link': 'https://spb.hse.ru/ba/soc/',\n",
       "  'name': 'Социология и социальная информатика',\n",
       "  'openings': '{\"free\": 50, \"paid_rus\": 40, \"paid_foreign\": 5}'},\n",
       " {'campus_id': 2,\n",
       "  'duration': '4',\n",
       "  'faculty': 'Санкт-Петербургская школа социальных и гуманитарных наук',\n",
       "  'faculty_id': 15,\n",
       "  'field_code': '38.00.00',\n",
       "  'field_name': 'Санкт-Петербургская школа социальных и гуманитарных наук',\n",
       "  'form_id': 1,\n",
       "  'id': 41,\n",
       "  'link': 'https://spb.hse.ru/ba/gmu/',\n",
       "  'name': 'Управление и аналитика в государственном секторе',\n",
       "  'openings': '{\"free\": 35, \"paid_rus\": 30, \"paid_foreign\": 4}'}]"
      ]
     },
     "execution_count": 38,
     "metadata": {},
     "output_type": "execute_result"
    }
   ],
   "source": [
    "sql = \"\"\"\n",
    "SELECT p.*, f.name faculty, f.name field_name\n",
    "FROM programs p\n",
    "JOIN faculties f on f.id=p.faculty_id\n",
    "JOIN fields fl on fl.code=p.field_code\n",
    "WHERE f.name='Санкт-Петербургская школа социальных и гуманитарных наук'\n",
    "\"\"\"\n",
    "cursor.execute(sql)\n",
    "cursor.fetchall()"
   ]
  },
  {
   "cell_type": "code",
   "execution_count": 39,
   "metadata": {},
   "outputs": [
    {
     "data": {
      "text/plain": [
       "[{'id': 1, 'name': 'Нижний Новгород'},\n",
       " {'id': 2, 'name': 'Санкт-Петербург'},\n",
       " {'id': 3, 'name': 'Пермь'},\n",
       " {'id': 4, 'name': 'Москва'}]"
      ]
     },
     "execution_count": 39,
     "metadata": {},
     "output_type": "execute_result"
    }
   ],
   "source": [
    "cursor.execute('SELECT * FROM campuses')\n",
    "cursor.fetchall()"
   ]
  }
 ],
 "metadata": {
  "kernelspec": {
   "display_name": "Python 3",
   "language": "python",
   "name": "python3"
  },
  "language_info": {
   "codemirror_mode": {
    "name": "ipython",
    "version": 3
   },
   "file_extension": ".py",
   "mimetype": "text/x-python",
   "name": "python",
   "nbconvert_exporter": "python",
   "pygments_lexer": "ipython3",
   "version": "3.6.4"
  }
 },
 "nbformat": 4,
 "nbformat_minor": 2
}
