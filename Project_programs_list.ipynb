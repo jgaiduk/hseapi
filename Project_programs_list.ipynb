{
 "cells": [
  {
   "cell_type": "code",
   "execution_count": 31,
   "metadata": {
    "collapsed": true
   },
   "outputs": [],
   "source": [
    "def get_masters_programs_list():\n",
    "    \"\"\"\n",
    "    Выдает список направлений подготовки магистратуры, актуальных на набор текущего года.\n",
    "    \"\"\"\n",
    "    \n",
    "    link = \"https://www.hse.ru/education/programs\"\n",
    "    import re\n",
    "    import requests\n",
    "    from bs4 import BeautifulSoup\n",
    "    masters_programs_list = []\n",
    "    r = requests.get(link)\n",
    "    page = BeautifulSoup(r.text, 'html.parser')\n",
    "    for program__title in page.body.find_all(\"div\", re.compile(\"education_magister\")):\n",
    "        title = program__title.h3.text\n",
    "        masters_programs_list.append(title)\n",
    "    return masters_programs_list"
   ]
  },
  {
   "cell_type": "code",
   "execution_count": 32,
   "metadata": {
    "collapsed": true
   },
   "outputs": [],
   "source": [
    "def get_bachelors_programs_list():\n",
    "    \"\"\"\n",
    "    Выдает список направлений подготовки бакалавриата, актуальных на набор текущего года.\n",
    "    \"\"\"\n",
    "    \n",
    "    link = \"https://www.hse.ru/education/programs\"\n",
    "    import re\n",
    "    import requests\n",
    "    from bs4 import BeautifulSoup\n",
    "    bachelors_programs_list = []\n",
    "    r = requests.get(link)\n",
    "    page = BeautifulSoup(r.text, 'html.parser')\n",
    "    for program__title in page.body.find_all(\"div\", re.compile(\"education_bachelor\")):\n",
    "        title = program__title.h3.text\n",
    "        bachelors_programs_list.append(title)\n",
    "    return bachelors_programs_list"
   ]
  }
 ],
 "metadata": {
  "kernelspec": {
   "display_name": "Python 3",
   "language": "python",
   "name": "python3"
  },
  "language_info": {
   "codemirror_mode": {
    "name": "ipython",
    "version": 3
   },
   "file_extension": ".py",
   "mimetype": "text/x-python",
   "name": "python",
   "nbconvert_exporter": "python",
   "pygments_lexer": "ipython3",
   "version": "3.6.3"
  }
 },
 "nbformat": 4,
 "nbformat_minor": 2
}
