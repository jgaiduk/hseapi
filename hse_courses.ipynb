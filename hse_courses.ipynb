{
 "cells": [
  {
   "cell_type": "code",
   "execution_count": 1,
   "metadata": {},
   "outputs": [],
   "source": [
    "import json\n",
    "from pathlib import Path\n",
    "\n",
    "import requests\n",
    "from tqdm import tqdm_notebook as tqdm\n",
    "from bs4 import BeautifulSoup"
   ]
  },
  {
   "cell_type": "code",
   "execution_count": 2,
   "metadata": {},
   "outputs": [],
   "source": [
    "p = Path('hse_courses')\n",
    "p.mkdir(exist_ok=True)"
   ]
  },
  {
   "cell_type": "code",
   "execution_count": 3,
   "metadata": {},
   "outputs": [],
   "source": [
    "base_url = 'https://www.hse.ru'\n",
    "url = '/edu/courses/page1.html'\n",
    "done = int(url[url.rfind(\"/\")+1:].split('.')[0][4:]) - 1\n",
    "raw = requests.get(base_url + url).text\n",
    "soup = BeautifulSoup(raw, 'lxml')"
   ]
  },
  {
   "cell_type": "code",
   "execution_count": 4,
   "metadata": {},
   "outputs": [],
   "source": [
    "last = soup.find('div', 'letterlist').findChildren(recursive=False)[-1]['href']\n",
    "last = last[last.rfind(\"/\")+1:]\n",
    "total = int(last.split('.')[0][4:])"
   ]
  },
  {
   "cell_type": "code",
   "execution_count": 5,
   "metadata": {},
   "outputs": [
    {
     "data": {
      "application/vnd.jupyter.widget-view+json": {
       "model_id": "04bcc7179d004eb8bc08bebda188a814",
       "version_major": 2,
       "version_minor": 0
      },
      "text/html": [
       "<p>Failed to display Jupyter Widget of type <code>HBox</code>.</p>\n",
       "<p>\n",
       "  If you're reading this message in the Jupyter Notebook or JupyterLab Notebook, it may mean\n",
       "  that the widgets JavaScript is still loading. If this message persists, it\n",
       "  likely means that the widgets JavaScript library is either not installed or\n",
       "  not enabled. See the <a href=\"https://ipywidgets.readthedocs.io/en/stable/user_install.html\">Jupyter\n",
       "  Widgets Documentation</a> for setup instructions.\n",
       "</p>\n",
       "<p>\n",
       "  If you're reading this message in another frontend (for example, a static\n",
       "  rendering on GitHub or <a href=\"https://nbviewer.jupyter.org/\">NBViewer</a>),\n",
       "  it may mean that your frontend doesn't currently support widgets.\n",
       "</p>\n"
      ],
      "text/plain": [
       "HBox(children=(IntProgress(value=0, max=412), HTML(value='')))"
      ]
     },
     "metadata": {},
     "output_type": "display_data"
    },
    {
     "name": "stdout",
     "output_type": "stream",
     "text": [
      "\n"
     ]
    }
   ],
   "source": [
    "with tqdm(total=total) as t:\n",
    "    raw = requests.get(base_url + url).text\n",
    "    soup = BeautifulSoup(raw, 'lxml')\n",
    "    done = int(url[url.rfind(\"/\")+1:].split('.')[0][4:]) - 1\n",
    "    t.update(done)\n",
    "    while True:\n",
    "        page_data = []\n",
    "        for program in soup.find_all('div', 'b-program'):\n",
    "            program = program.div\n",
    "            name, year, fields = program.findChildren(recursive=False)\n",
    "            data = {\n",
    "                'course_name': name.text,\n",
    "                'course_url': name.a['href'],\n",
    "                'year': str(year.contents[1])\n",
    "            }\n",
    "            \n",
    "            fields_data = {}\n",
    "            for field in fields.findChildren(recursive=False):\n",
    "                title = field.contents[0]\n",
    "                k = title.text.replace(':', '').strip()\n",
    "                title.decompose()\n",
    "                fields_data[k] = {\n",
    "                    'text': field.text.strip(),\n",
    "                    'links': [a['href'] for a in field.find_all('a', href=True)]\n",
    "                }\n",
    "            data['fields'] = fields_data\n",
    "            page_data.append(data)\n",
    "            \n",
    "        fname = url[url.rfind(\"/\")+1:].split('.')[0] + '.json'\n",
    "        with p.joinpath(fname).open('w', encoding='utf8') as f:\n",
    "            json.dump(page_data, f, ensure_ascii=False, indent=2)\n",
    "        \n",
    "        t.update(1)\n",
    "        next_url = soup.find('div', 'letterlist').findChildren(recursive=False)[-2]\n",
    "        if next_url.text == '→':\n",
    "            url = next_url['href']\n",
    "            raw = requests.get(base_url + url).text\n",
    "            soup = BeautifulSoup(raw, 'lxml')\n",
    "        else:\n",
    "            next_url = soup.find('div', 'letterlist').findChildren(recursive=False)[-1]\n",
    "            if next_url.text == '→':\n",
    "                url = next_url['href']\n",
    "            else:\n",
    "                break\n",
    "        try:\n",
    "            raw = requests.get(base_url + url).text\n",
    "        except:\n",
    "            raw = requests.get(base_url + url).text  # repeat request once if something went wrong with connecting the first time\n",
    "        soup = BeautifulSoup(raw, 'lxml')"
   ]
  },
  {
   "cell_type": "code",
   "execution_count": 6,
   "metadata": {},
   "outputs": [],
   "source": [
    "composed_data = []\n",
    "for j_p in p.iterdir():\n",
    "    if j_p.suffix != '.json':\n",
    "        continue\n",
    "    composed_data += json.loads(j_p.read_text(encoding='utf8'))"
   ]
  },
  {
   "cell_type": "code",
   "execution_count": 10,
   "metadata": {},
   "outputs": [],
   "source": [
    "with open('composed_courses.json', 'w', encoding='utf8') as f:\n",
    "    json.dump(composed_data, f, ensure_ascii=False, indent=2)"
   ]
  }
 ],
 "metadata": {
  "kernelspec": {
   "display_name": "Python 3",
   "language": "python",
   "name": "python3"
  },
  "language_info": {
   "codemirror_mode": {
    "name": "ipython",
    "version": 3
   },
   "file_extension": ".py",
   "mimetype": "text/x-python",
   "name": "python",
   "nbconvert_exporter": "python",
   "pygments_lexer": "ipython3",
   "version": "3.6.4"
  }
 },
 "nbformat": 4,
 "nbformat_minor": 2
}
