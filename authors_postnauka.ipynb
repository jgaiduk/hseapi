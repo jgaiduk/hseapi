{
 "cells": [
  {
   "cell_type": "code",
   "execution_count": 8,
   "metadata": {},
   "outputs": [],
   "source": [
    "import json\n",
    "\n",
    "import requests\n",
    "from tqdm import tqdm_notebook as tqdm"
   ]
  },
  {
   "cell_type": "code",
   "execution_count": 23,
   "metadata": {},
   "outputs": [
    {
     "data": {
      "application/vnd.jupyter.widget-view+json": {
       "model_id": "627e7a2b6033468dbaa845abafaa5567",
       "version_major": 2,
       "version_minor": 0
      },
      "text/html": [
       "<p>Failed to display Jupyter Widget of type <code>HBox</code>.</p>\n",
       "<p>\n",
       "  If you're reading this message in the Jupyter Notebook or JupyterLab Notebook, it may mean\n",
       "  that the widgets JavaScript is still loading. If this message persists, it\n",
       "  likely means that the widgets JavaScript library is either not installed or\n",
       "  not enabled. See the <a href=\"https://ipywidgets.readthedocs.io/en/stable/user_install.html\">Jupyter\n",
       "  Widgets Documentation</a> for setup instructions.\n",
       "</p>\n",
       "<p>\n",
       "  If you're reading this message in another frontend (for example, a static\n",
       "  rendering on GitHub or <a href=\"https://nbviewer.jupyter.org/\">NBViewer</a>),\n",
       "  it may mean that your frontend doesn't currently support widgets.\n",
       "</p>\n"
      ],
      "text/plain": [
       "HBox(children=(IntProgress(value=0, max=99), HTML(value='')))"
      ]
     },
     "metadata": {},
     "output_type": "display_data"
    },
    {
     "name": "stdout",
     "output_type": "stream",
     "text": [
      "\n"
     ]
    }
   ],
   "source": [
    "data = {}\n",
    "\n",
    "for page in tqdm(range(1, 100)):\n",
    "    r = requests.get('https://postnauka.ru/api/v1/authors', {'page': page, 'expand': 'theme'}, headers={'content-type': 'application/json'})\n",
    "    for author in r.json():\n",
    "        data[author['user_id']] = {\n",
    "            'name': author['author_name'],\n",
    "            'post_count': author['post_count'],\n",
    "            'about': author['author_desc'],\n",
    "            'link': author['author_link'],\n",
    "            'image': author['author_image'],\n",
    "            'themes': author['theme']\n",
    "        }\n",
    "    if r.headers['X-Pagination-Current-Page'] == r.headers['X-Pagination-Page-Count']:\n",
    "        break"
   ]
  },
  {
   "cell_type": "code",
   "execution_count": 24,
   "metadata": {},
   "outputs": [
    {
     "data": {
      "text/plain": [
       "{'about': 'доктор биологических наук, профессор кафедры физиологии человека и животных биологического факультета МГУ, специалист в области физиологии мозга',\n",
       " 'image': 'http://postnauka.ru//author/img/dubynin.jpg',\n",
       " 'link': '/author/dubynin',\n",
       " 'name': 'Вячеслав Дубынин',\n",
       " 'post_count': '56',\n",
       " 'themes': [{'count': '49', 'link': 'brain', 'name': 'мозг'},\n",
       "  {'count': '32', 'link': 'fiziologiya', 'name': 'физиология'},\n",
       "  {'count': '30', 'link': 'neurophysiology', 'name': 'нейрофизиология'},\n",
       "  {'count': '30', 'link': 'neurobiology', 'name': 'нейробиология'},\n",
       "  {'count': '26', 'link': 'neyron', 'name': 'нейрон'},\n",
       "  {'count': '25', 'link': 'biology', 'name': 'биология'},\n",
       "  {'count': '22', 'link': 'neyromediatoryi', 'name': 'нейромедиаторы'},\n",
       "  {'count': '19', 'link': 'neyronauka', 'name': 'нейронаука'}]}"
      ]
     },
     "execution_count": 24,
     "metadata": {},
     "output_type": "execute_result"
    }
   ],
   "source": [
    "data['1079']"
   ]
  }
 ],
 "metadata": {
  "kernelspec": {
   "display_name": "Python 3",
   "language": "python",
   "name": "python3"
  },
  "language_info": {
   "codemirror_mode": {
    "name": "ipython",
    "version": 3
   },
   "file_extension": ".py",
   "mimetype": "text/x-python",
   "name": "python",
   "nbconvert_exporter": "python",
   "pygments_lexer": "ipython3",
   "version": "3.6.4"
  }
 },
 "nbformat": 4,
 "nbformat_minor": 2
}
