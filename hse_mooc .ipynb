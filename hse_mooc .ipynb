{
 "cells": [
  {
   "cell_type": "code",
   "execution_count": 6,
   "metadata": {
    "collapsed": true
   },
   "outputs": [],
   "source": [
    "import json\n",
    "from pathlib import Path\n",
    "import sqlite3\n",
    "\n",
    "import requests\n",
    "from bs4 import BeautifulSoup"
   ]
  },
  {
   "cell_type": "code",
   "execution_count": 2,
   "metadata": {
    "collapsed": true
   },
   "outputs": [],
   "source": [
    "r = requests.get('https://elearning.hse.ru/mooc')\n",
    "soup = BeautifulSoup(r.text, 'lxml')"
   ]
  },
  {
   "cell_type": "code",
   "execution_count": 3,
   "metadata": {},
   "outputs": [
    {
     "data": {
      "text/plain": [
       "[<h3>Coursera. Специализация \"<a class=\"link external\" href=\"https://www.coursera.org/specializations/finansovyye-instrumenty\" rel=\"nofollow\" target=\"_blank\">Финансовые инструменты для частного инвестора<ins class=\"i\"></ins></a>\"</h3>,\n",
       " <h3>Coursera. Специализация \"<a class=\"link external\" href=\"https://www.coursera.org/specializations/korporativnyye-finansy\" rel=\"nofollow\" target=\"_blank\">Корпоративные финансы и стоимость компании<ins class=\"i\"></ins></a>\"</h3>,\n",
       " <h3>Coursera. Специализация \"<a class=\"link external\" href=\"https://www.coursera.org/specializations/data-structures-algorithms\" rel=\"nofollow\" target=\"_blank\">Data Structures and Algorithms<ins class=\"i\"></ins></a>\"</h3>,\n",
       " <h3>Coursera. Специализация \"<a class=\"link external\" href=\"https://www.coursera.org/specializations/discrete-mathematics\" rel=\"nofollow\" target=\"_blank\">Introduction to Discrete Mathematics for Computer Science<ins class=\"i\"></ins></a>\"<br/><br/></h3>,\n",
       " <h3>Coursera. Специализация \"<a class=\"link external\" href=\"https://www.coursera.org/specializations/aml\" rel=\"nofollow\" target=\"_blank\">Advanced Machine Learning<ins class=\"i\"></ins></a>\"<br/><br/></h3>,\n",
       " <h3>Coursera. Специализация \"<a class=\"link external\" href=\"https://www.coursera.org/specializations/fundamentals-digital-marketing\" rel=\"nofollow\" target=\"_blank\">Основы Digital Маркетинга<ins class=\"i\"></ins></a>\"<br/><br/></h3>,\n",
       " <h3><br/><br/>Coursera. Индивидуальные курсы</h3>,\n",
       " <h2 class=\"with-indent3\">Курсы НИУ ВШЭ на Национальной платформе открытого образования (НПОО)</h2>]"
      ]
     },
     "execution_count": 3,
     "metadata": {},
     "output_type": "execute_result"
    }
   ],
   "source": [
    "headers = soup.find_all('h3') + soup.find_all('h2', 'with-indent3')\n",
    "headers"
   ]
  },
  {
   "cell_type": "code",
   "execution_count": 4,
   "metadata": {
    "collapsed": true
   },
   "outputs": [],
   "source": [
    "specializations = []\n",
    "for m in headers:\n",
    "    specialization = {\n",
    "        'name': m.text,\n",
    "        'link': m.a['href'] if m.a else None\n",
    "    }\n",
    "    courses = []\n",
    "    for course in m.find_next_sibling('div').table.tbody.find_all('tr'):\n",
    "        name, teachers, freq, form, lang, sub, free, certificate = course.find_all('td')\n",
    "        courses.append({\n",
    "            'name': name.text.strip(),\n",
    "            'link': name.a['href'],\n",
    "            'teachers': [{'name': teacher.text, 'link': teacher['href']} for teacher in teachers.find_all('a')],\n",
    "            'freq': freq.text.strip(),\n",
    "            'form': form.text.strip(),\n",
    "            'languages': [l['class'][-1] for l in lang.find_all('ins')],\n",
    "            'subtitles': [l['class'][-1] for l in sub.find_all('ins')],\n",
    "            'free': bool(free.text.strip()),\n",
    "            'certificate': bool(certificate.text.strip())\n",
    "        })\n",
    "    specialization['courses'] = courses\n",
    "    specializations.append(specialization)"
   ]
  },
  {
   "cell_type": "code",
   "execution_count": 12,
   "metadata": {
    "collapsed": true
   },
   "outputs": [],
   "source": [
    "with open('mooc.json', 'w', encoding='utf8') as f:\n",
    "    json.dump(specializations, f, ensure_ascii=False, indent=2)"
   ]
  },
  {
   "cell_type": "code",
   "execution_count": 7,
   "metadata": {
    "collapsed": true
   },
   "outputs": [],
   "source": [
    "def dict_factory(cursor, row):\n",
    "    d = {}\n",
    "    for idx, col in enumerate(cursor.description):\n",
    "        d[col[0]] = row[idx]\n",
    "    return d\n",
    "\n",
    "conn = sqlite3.connect('mooc_hse.db', isolation_level=None)\n",
    "conn.row_factory = dict_factory\n",
    "cursor = conn.cursor()"
   ]
  },
  {
   "cell_type": "code",
   "execution_count": 25,
   "metadata": {
    "collapsed": true
   },
   "outputs": [],
   "source": [
    "#делаем таблицу\n",
    "cursor.execute('DROP TABLE IF EXISTS courses_group')\n",
    "sql = '''CREATE TABLE courses_group (\n",
    "    id integer PRIMARY KEY autoincrement,\n",
    "    name text,\n",
    "    link text\n",
    ")'''\n",
    "cursor.execute(sql)\n",
    "\n",
    "cursor.execute('DROP TABLE IF EXISTS mooc_hse')\n",
    "sql = '''CREATE TABLE mooc_hse (\n",
    "    id integer PRIMARY KEY autoincrement,\n",
    "    group_id int,\n",
    "    name text,\n",
    "    certificate int,\n",
    "    form text,\n",
    "    free int,\n",
    "    freq  text,\n",
    "    languages text,\n",
    "    subtitles text,\n",
    "    link text,\n",
    "    \n",
    "    FOREIGN KEY(group_id) REFERENCES courses_group(id)\n",
    ")'''\n",
    "cursor.execute(sql)\n",
    "\n",
    "cursor.execute('DROP TABLE IF EXISTS teachers')\n",
    "sql = '''CREATE TABLE teachers (\n",
    "    course_id integer,\n",
    "    teacher_name text,\n",
    "    teacher_link,\n",
    "    \n",
    "    FOREIGN KEY(course_id) REFERENCES mooc_hse(id)\n",
    ")'''\n",
    "cursor.execute(sql)\n",
    "\n",
    "group_sql = \"INSERT INTO courses_group (name, link) VALUES(?, ?)\"\n",
    "sql = \"\"\"INSERT INTO mooc_hse (name, certificate, form, free, freq, languages, subtitles, link, group_id) \n",
    "VALUES  (?, ?, ?, ?, ?, ?, ?, ?, ?)\"\"\"\n",
    "teachers_sql = \"INSERT INTO TEACHERS (course_id, teacher_name, teacher_link) VALUES (?, ?, ?)\"\n",
    "for group in specializations:\n",
    "    cursor.execute(group_sql, [group['name'], group['link']])\n",
    "    group_id = cursor.lastrowid\n",
    "    for course in group['courses']:\n",
    "        cursor.execute(sql, [course['name'], course['certificate'], course['form'], course['free'], course['freq'],\n",
    "                             ', '.join(course['languages']), ', '.join(course['subtitles']),\n",
    "                             course['link'], group_id\n",
    "                            ])\n",
    "        course_id = cursor.lastrowid\n",
    "        for teacher in course['teachers']:\n",
    "            cursor.execute(teachers_sql, [course_id, teacher['name'], teacher['link']])"
   ]
  },
  {
   "cell_type": "code",
   "execution_count": null,
   "metadata": {
    "collapsed": true
   },
   "outputs": [],
   "source": []
  }
 ],
 "metadata": {
  "kernelspec": {
   "display_name": "Python 3",
   "language": "python",
   "name": "python3"
  },
  "language_info": {
   "codemirror_mode": {
    "name": "ipython",
    "version": 3
   },
   "file_extension": ".py",
   "mimetype": "text/x-python",
   "name": "python",
   "nbconvert_exporter": "python",
   "pygments_lexer": "ipython3",
   "version": "3.6.1"
  }
 },
 "nbformat": 4,
 "nbformat_minor": 2
}
